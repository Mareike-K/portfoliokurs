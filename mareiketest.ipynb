{
 "cells": [
  {
   "cell_type": "code",
   "execution_count": 1,
   "metadata": {},
   "outputs": [],
   "source": [
    "import requests"
   ]
  },
  {
   "cell_type": "code",
   "execution_count": 1,
   "metadata": {},
   "outputs": [],
   "source": [
    "import pandas as pd"
   ]
  },
  {
   "cell_type": "code",
   "execution_count": null,
   "metadata": {},
   "outputs": [
    {
     "data": {
      "text/plain": [
       "(2321072, 9)"
      ]
     },
     "execution_count": 2,
     "metadata": {},
     "output_type": "execute_result"
    }
   ],
   "source": [
    "file_path = \"/Users/mareikekeller/Desktop/waqi-covid19-airqualitydata-2025.csv\"\n",
    "df = pd.read_csv(file_path, comment=\"#\")"
   ]
  },
  {
   "cell_type": "code",
   "execution_count": 4,
   "metadata": {},
   "outputs": [
    {
     "data": {
      "text/html": [
       "<div>\n",
       "<style scoped>\n",
       "    .dataframe tbody tr th:only-of-type {\n",
       "        vertical-align: middle;\n",
       "    }\n",
       "\n",
       "    .dataframe tbody tr th {\n",
       "        vertical-align: top;\n",
       "    }\n",
       "\n",
       "    .dataframe thead th {\n",
       "        text-align: right;\n",
       "    }\n",
       "</style>\n",
       "<table border=\"1\" class=\"dataframe\">\n",
       "  <thead>\n",
       "    <tr style=\"text-align: right;\">\n",
       "      <th></th>\n",
       "      <th>Date</th>\n",
       "      <th>Country</th>\n",
       "      <th>City</th>\n",
       "      <th>Specie</th>\n",
       "      <th>count</th>\n",
       "      <th>min</th>\n",
       "      <th>max</th>\n",
       "      <th>median</th>\n",
       "      <th>variance</th>\n",
       "    </tr>\n",
       "  </thead>\n",
       "  <tbody>\n",
       "    <tr>\n",
       "      <th>0</th>\n",
       "      <td>2024-12-16</td>\n",
       "      <td>PE</td>\n",
       "      <td>Lima</td>\n",
       "      <td>o3</td>\n",
       "      <td>120</td>\n",
       "      <td>0.4</td>\n",
       "      <td>20.2</td>\n",
       "      <td>1.7</td>\n",
       "      <td>107.87</td>\n",
       "    </tr>\n",
       "    <tr>\n",
       "      <th>1</th>\n",
       "      <td>2025-01-04</td>\n",
       "      <td>PE</td>\n",
       "      <td>Lima</td>\n",
       "      <td>o3</td>\n",
       "      <td>192</td>\n",
       "      <td>0.3</td>\n",
       "      <td>29.9</td>\n",
       "      <td>2.6</td>\n",
       "      <td>352.15</td>\n",
       "    </tr>\n",
       "    <tr>\n",
       "      <th>2</th>\n",
       "      <td>2024-02-06</td>\n",
       "      <td>PE</td>\n",
       "      <td>Lima</td>\n",
       "      <td>o3</td>\n",
       "      <td>167</td>\n",
       "      <td>0.8</td>\n",
       "      <td>15.6</td>\n",
       "      <td>4.9</td>\n",
       "      <td>91.98</td>\n",
       "    </tr>\n",
       "    <tr>\n",
       "      <th>3</th>\n",
       "      <td>2024-04-19</td>\n",
       "      <td>PE</td>\n",
       "      <td>Lima</td>\n",
       "      <td>o3</td>\n",
       "      <td>144</td>\n",
       "      <td>0.8</td>\n",
       "      <td>11.3</td>\n",
       "      <td>5.4</td>\n",
       "      <td>101.73</td>\n",
       "    </tr>\n",
       "    <tr>\n",
       "      <th>4</th>\n",
       "      <td>2024-08-15</td>\n",
       "      <td>PE</td>\n",
       "      <td>Lima</td>\n",
       "      <td>o3</td>\n",
       "      <td>97</td>\n",
       "      <td>1.1</td>\n",
       "      <td>13.7</td>\n",
       "      <td>2.8</td>\n",
       "      <td>62.46</td>\n",
       "    </tr>\n",
       "  </tbody>\n",
       "</table>\n",
       "</div>"
      ],
      "text/plain": [
       "         Date Country  City Specie  count  min   max  median  variance\n",
       "0  2024-12-16      PE  Lima     o3    120  0.4  20.2     1.7    107.87\n",
       "1  2025-01-04      PE  Lima     o3    192  0.3  29.9     2.6    352.15\n",
       "2  2024-02-06      PE  Lima     o3    167  0.8  15.6     4.9     91.98\n",
       "3  2024-04-19      PE  Lima     o3    144  0.8  11.3     5.4    101.73\n",
       "4  2024-08-15      PE  Lima     o3     97  1.1  13.7     2.8     62.46"
      ]
     },
     "execution_count": 4,
     "metadata": {},
     "output_type": "execute_result"
    }
   ],
   "source": [
    "df.head()"
   ]
  },
  {
   "cell_type": "code",
   "execution_count": 6,
   "metadata": {},
   "outputs": [
    {
     "data": {
      "text/plain": [
       "(2321072, 9)"
      ]
     },
     "execution_count": 6,
     "metadata": {},
     "output_type": "execute_result"
    }
   ],
   "source": [
    "df.shape"
   ]
  },
  {
   "cell_type": "code",
   "execution_count": 4,
   "metadata": {},
   "outputs": [
    {
     "data": {
      "text/html": [
       "<div>\n",
       "<style scoped>\n",
       "    .dataframe tbody tr th:only-of-type {\n",
       "        vertical-align: middle;\n",
       "    }\n",
       "\n",
       "    .dataframe tbody tr th {\n",
       "        vertical-align: top;\n",
       "    }\n",
       "\n",
       "    .dataframe thead th {\n",
       "        text-align: right;\n",
       "    }\n",
       "</style>\n",
       "<table border=\"1\" class=\"dataframe\">\n",
       "  <thead>\n",
       "    <tr style=\"text-align: right;\">\n",
       "      <th></th>\n",
       "      <th>count</th>\n",
       "      <th>min</th>\n",
       "      <th>max</th>\n",
       "      <th>median</th>\n",
       "      <th>variance</th>\n",
       "    </tr>\n",
       "  </thead>\n",
       "  <tbody>\n",
       "    <tr>\n",
       "      <th>count</th>\n",
       "      <td>2.321072e+06</td>\n",
       "      <td>2.321072e+06</td>\n",
       "      <td>2.321072e+06</td>\n",
       "      <td>2.321072e+06</td>\n",
       "      <td>2.321072e+06</td>\n",
       "    </tr>\n",
       "    <tr>\n",
       "      <th>mean</th>\n",
       "      <td>1.211780e+02</td>\n",
       "      <td>1.095159e+02</td>\n",
       "      <td>1.363276e+02</td>\n",
       "      <td>1.200346e+02</td>\n",
       "      <td>2.527201e+03</td>\n",
       "    </tr>\n",
       "    <tr>\n",
       "      <th>std</th>\n",
       "      <td>1.801619e+02</td>\n",
       "      <td>2.942539e+02</td>\n",
       "      <td>2.967850e+02</td>\n",
       "      <td>2.947011e+02</td>\n",
       "      <td>4.967260e+04</td>\n",
       "    </tr>\n",
       "    <tr>\n",
       "      <th>min</th>\n",
       "      <td>2.000000e+00</td>\n",
       "      <td>-3.273900e+03</td>\n",
       "      <td>-6.420000e+01</td>\n",
       "      <td>-7.600000e+01</td>\n",
       "      <td>0.000000e+00</td>\n",
       "    </tr>\n",
       "    <tr>\n",
       "      <th>25%</th>\n",
       "      <td>3.700000e+01</td>\n",
       "      <td>1.000000e+00</td>\n",
       "      <td>9.400000e+00</td>\n",
       "      <td>3.900000e+00</td>\n",
       "      <td>1.760000e+01</td>\n",
       "    </tr>\n",
       "    <tr>\n",
       "      <th>50%</th>\n",
       "      <td>7.200000e+01</td>\n",
       "      <td>5.000000e+00</td>\n",
       "      <td>2.600000e+01</td>\n",
       "      <td>1.400000e+01</td>\n",
       "      <td>9.642500e+01</td>\n",
       "    </tr>\n",
       "    <tr>\n",
       "      <th>75%</th>\n",
       "      <td>1.440000e+02</td>\n",
       "      <td>2.450000e+01</td>\n",
       "      <td>8.230000e+01</td>\n",
       "      <td>4.800000e+01</td>\n",
       "      <td>6.424125e+02</td>\n",
       "    </tr>\n",
       "    <tr>\n",
       "      <th>max</th>\n",
       "      <td>2.616000e+03</td>\n",
       "      <td>1.100000e+03</td>\n",
       "      <td>3.275100e+03</td>\n",
       "      <td>1.301800e+03</td>\n",
       "      <td>3.550800e+07</td>\n",
       "    </tr>\n",
       "  </tbody>\n",
       "</table>\n",
       "</div>"
      ],
      "text/plain": [
       "              count           min           max        median      variance\n",
       "count  2.321072e+06  2.321072e+06  2.321072e+06  2.321072e+06  2.321072e+06\n",
       "mean   1.211780e+02  1.095159e+02  1.363276e+02  1.200346e+02  2.527201e+03\n",
       "std    1.801619e+02  2.942539e+02  2.967850e+02  2.947011e+02  4.967260e+04\n",
       "min    2.000000e+00 -3.273900e+03 -6.420000e+01 -7.600000e+01  0.000000e+00\n",
       "25%    3.700000e+01  1.000000e+00  9.400000e+00  3.900000e+00  1.760000e+01\n",
       "50%    7.200000e+01  5.000000e+00  2.600000e+01  1.400000e+01  9.642500e+01\n",
       "75%    1.440000e+02  2.450000e+01  8.230000e+01  4.800000e+01  6.424125e+02\n",
       "max    2.616000e+03  1.100000e+03  3.275100e+03  1.301800e+03  3.550800e+07"
      ]
     },
     "execution_count": 4,
     "metadata": {},
     "output_type": "execute_result"
    }
   ],
   "source": [
    "df.describe()"
   ]
  }
 ],
 "metadata": {
  "kernelspec": {
   "display_name": ".venv",
   "language": "python",
   "name": "python3"
  },
  "language_info": {
   "codemirror_mode": {
    "name": "ipython",
    "version": 3
   },
   "file_extension": ".py",
   "mimetype": "text/x-python",
   "name": "python",
   "nbconvert_exporter": "python",
   "pygments_lexer": "ipython3",
   "version": "3.11.4"
  }
 },
 "nbformat": 4,
 "nbformat_minor": 2
}
