{
 "cells": [
  {
   "cell_type": "code",
   "execution_count": 1,
   "metadata": {},
   "outputs": [],
   "source": [
    "import requests"
   ]
  },
  {
   "cell_type": "code",
   "execution_count": 2,
   "metadata": {},
   "outputs": [],
   "source": [
    "import pandas as pd"
   ]
  },
  {
   "cell_type": "code",
   "execution_count": 3,
   "metadata": {},
   "outputs": [
    {
     "data": {
      "text/html": [
       "<div>\n",
       "<style scoped>\n",
       "    .dataframe tbody tr th:only-of-type {\n",
       "        vertical-align: middle;\n",
       "    }\n",
       "\n",
       "    .dataframe tbody tr th {\n",
       "        vertical-align: top;\n",
       "    }\n",
       "\n",
       "    .dataframe thead th {\n",
       "        text-align: right;\n",
       "    }\n",
       "</style>\n",
       "<table border=\"1\" class=\"dataframe\">\n",
       "  <thead>\n",
       "    <tr style=\"text-align: right;\">\n",
       "      <th></th>\n",
       "      <th>Date</th>\n",
       "      <th>Country</th>\n",
       "      <th>City</th>\n",
       "      <th>Specie</th>\n",
       "      <th>count</th>\n",
       "      <th>min</th>\n",
       "      <th>max</th>\n",
       "      <th>median</th>\n",
       "      <th>variance</th>\n",
       "    </tr>\n",
       "  </thead>\n",
       "  <tbody>\n",
       "    <tr>\n",
       "      <th>2321067</th>\n",
       "      <td>2024-03-19</td>\n",
       "      <td>IQ</td>\n",
       "      <td>Baghdad</td>\n",
       "      <td>wind-gust</td>\n",
       "      <td>2</td>\n",
       "      <td>13.8</td>\n",
       "      <td>14.9</td>\n",
       "      <td>13.8</td>\n",
       "      <td>6.05</td>\n",
       "    </tr>\n",
       "    <tr>\n",
       "      <th>2321068</th>\n",
       "      <td>2024-04-09</td>\n",
       "      <td>IQ</td>\n",
       "      <td>Baghdad</td>\n",
       "      <td>wind-gust</td>\n",
       "      <td>2</td>\n",
       "      <td>15.9</td>\n",
       "      <td>18.0</td>\n",
       "      <td>15.9</td>\n",
       "      <td>22.05</td>\n",
       "    </tr>\n",
       "    <tr>\n",
       "      <th>2321069</th>\n",
       "      <td>2024-06-25</td>\n",
       "      <td>IQ</td>\n",
       "      <td>Baghdad</td>\n",
       "      <td>wind-gust</td>\n",
       "      <td>2</td>\n",
       "      <td>9.7</td>\n",
       "      <td>10.8</td>\n",
       "      <td>9.7</td>\n",
       "      <td>6.05</td>\n",
       "    </tr>\n",
       "    <tr>\n",
       "      <th>2321070</th>\n",
       "      <td>2024-12-27</td>\n",
       "      <td>IQ</td>\n",
       "      <td>Baghdad</td>\n",
       "      <td>wind-gust</td>\n",
       "      <td>2</td>\n",
       "      <td>16.4</td>\n",
       "      <td>19.0</td>\n",
       "      <td>16.4</td>\n",
       "      <td>33.80</td>\n",
       "    </tr>\n",
       "    <tr>\n",
       "      <th>2321071</th>\n",
       "      <td>2025-02-05</td>\n",
       "      <td>IQ</td>\n",
       "      <td>Baghdad</td>\n",
       "      <td>wind-gust</td>\n",
       "      <td>4</td>\n",
       "      <td>14.4</td>\n",
       "      <td>20.0</td>\n",
       "      <td>15.4</td>\n",
       "      <td>61.07</td>\n",
       "    </tr>\n",
       "  </tbody>\n",
       "</table>\n",
       "</div>"
      ],
      "text/plain": [
       "               Date Country     City     Specie  count   min   max  median  \\\n",
       "2321067  2024-03-19      IQ  Baghdad  wind-gust      2  13.8  14.9    13.8   \n",
       "2321068  2024-04-09      IQ  Baghdad  wind-gust      2  15.9  18.0    15.9   \n",
       "2321069  2024-06-25      IQ  Baghdad  wind-gust      2   9.7  10.8     9.7   \n",
       "2321070  2024-12-27      IQ  Baghdad  wind-gust      2  16.4  19.0    16.4   \n",
       "2321071  2025-02-05      IQ  Baghdad  wind-gust      4  14.4  20.0    15.4   \n",
       "\n",
       "         variance  \n",
       "2321067      6.05  \n",
       "2321068     22.05  \n",
       "2321069      6.05  \n",
       "2321070     33.80  \n",
       "2321071     61.07  "
      ]
     },
     "execution_count": 3,
     "metadata": {},
     "output_type": "execute_result"
    }
   ],
   "source": [
    "file_path = \"/Users/mareikekeller/Desktop/waqi-covid19-airqualitydata-2025.csv\"\n",
    "df = pd.read_csv(file_path, comment=\"#\")\n",
    "df.tail()"
   ]
  }
 ],
 "metadata": {
  "kernelspec": {
   "display_name": ".venv",
   "language": "python",
   "name": "python3"
  },
  "language_info": {
   "codemirror_mode": {
    "name": "ipython",
    "version": 3
   },
   "file_extension": ".py",
   "mimetype": "text/x-python",
   "name": "python",
   "nbconvert_exporter": "python",
   "pygments_lexer": "ipython3",
   "version": "3.11.4"
  }
 },
 "nbformat": 4,
 "nbformat_minor": 2
}
